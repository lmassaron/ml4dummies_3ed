{
  "nbformat": 4,
  "nbformat_minor": 0,
  "metadata": {
    "colab": {
      "provenance": [],
      "authorship_tag": "ABX9TyPCZQD8EGEjOlTczY5i3O+O",
      "include_colab_link": true
    },
    "kernelspec": {
      "name": "python3",
      "display_name": "Python 3"
    },
    "language_info": {
      "name": "python"
    }
  },
  "cells": [
    {
      "cell_type": "markdown",
      "metadata": {
        "id": "view-in-github",
        "colab_type": "text"
      },
      "source": [
        "<a href=\"https://colab.research.google.com/github/lmassaron/ml4dummies_3ed/blob/main/ML4D3E_09_validating_machine_learning.ipynb\" target=\"_parent\"><img src=\"https://colab.research.google.com/assets/colab-badge.svg\" alt=\"Open In Colab\"/></a>"
      ]
    },
    {
      "cell_type": "code",
      "execution_count": 1,
      "metadata": {
        "colab": {
          "base_uri": "https://localhost:8080/"
        },
        "id": "yZF-5MHB4fz4",
        "outputId": "64f6a612-de27-4a4b-9aa2-838f70cd2d07"
      },
      "outputs": [
        {
          "output_type": "stream",
          "name": "stdout",
          "text": [
            "Avg out-of-bootstrap: 36.8%\n"
          ]
        }
      ],
      "source": [
        "import numpy as np\n",
        "\n",
        "size = 1000\n",
        "iters = 10000\n",
        "results = list()\n",
        "\n",
        "for i in range(iters):\n",
        "    chosen = np.random.randint(0, size, size=size)\n",
        "    results.append(len(np.unique(chosen)) / size)\n",
        "\n",
        "avg_oob = 1 - np.mean(results)\n",
        "print(f\"Avg out-of-bootstrap: {avg_oob*100:.1f}%\")"
      ]
    }
  ]
}