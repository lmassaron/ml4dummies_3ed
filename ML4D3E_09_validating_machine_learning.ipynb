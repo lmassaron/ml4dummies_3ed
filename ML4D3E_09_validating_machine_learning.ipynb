{
  "nbformat": 4,
  "nbformat_minor": 0,
  "metadata": {
    "colab": {
      "provenance": [],
      "authorship_tag": "ABX9TyNerUUwnjnqtB0+jRUaOpCs",
      "include_colab_link": true
    },
    "kernelspec": {
      "name": "python3",
      "display_name": "Python 3"
    },
    "language_info": {
      "name": "python"
    }
  },
  "cells": [
    {
      "cell_type": "markdown",
      "metadata": {
        "id": "view-in-github",
        "colab_type": "text"
      },
      "source": [
        "<a href=\"https://colab.research.google.com/github/lmassaron/ml4dummies_3ed/blob/main/ML4D3E_09_validating_machine_learning.ipynb\" target=\"_parent\"><img src=\"https://colab.research.google.com/assets/colab-badge.svg\" alt=\"Open In Colab\"/></a>"
      ]
    },
    {
      "cell_type": "code",
      "execution_count": 4,
      "metadata": {
        "colab": {
          "base_uri": "https://localhost:8080/"
        },
        "id": "yZF-5MHB4fz4",
        "outputId": "33db7e8c-263d-4d9f-c854-a7d0916f7f21"
      },
      "outputs": [
        {
          "output_type": "stream",
          "name": "stdout",
          "text": [
            "Avg out-of-bootstrap: 36.8%\n"
          ]
        }
      ],
      "source": [
        "import numpy as np\n",
        "\n",
        "n = 1000\n",
        "results = list()\n",
        "\n",
        "for j in range(10000):\n",
        "    chosen = np.random.randint(0, n, size=n)\n",
        "    results.append(len(np.unique(chosen)) / n)\n",
        "\n",
        "avg_oob = 1 - np.mean(results)\n",
        "print(f\"Avg out-of-bootstrap: {avg_oob*100:0.1f}%\")"
      ]
    }
  ]
}