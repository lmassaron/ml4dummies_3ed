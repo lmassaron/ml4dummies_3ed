{
  "cells": [
    {
      "cell_type": "markdown",
      "metadata": {
        "id": "view-in-github",
        "colab_type": "text"
      },
      "source": [
        "<a href=\"https://colab.research.google.com/github/lmassaron/ml4dummies_3ed/blob/main/ML4D3E_13_going_beyond_the_basics_with_support_vector_machines.ipynb\" target=\"_parent\"><img src=\"https://colab.research.google.com/assets/colab-badge.svg\" alt=\"Open In Colab\"/></a>"
      ]
    },
    {
      "cell_type": "code",
      "execution_count": 1,
      "metadata": {
        "id": "w5H657B8MMsb"
      },
      "outputs": [],
      "source": [
        "import numpy as np\n",
        "from sklearn.datasets import load_digits\n",
        "\n",
        "digits = load_digits()\n",
        "X, y = digits.data, digits.target"
      ]
    },
    {
      "cell_type": "code",
      "execution_count": 2,
      "metadata": {
        "id": "kfoyMdwUMhIs"
      },
      "outputs": [],
      "source": [
        "from sklearn.model_selection import train_test_split\n",
        "from sklearn.model_selection import cross_val_score\n",
        "\n",
        "X_train, X_test, y_train, y_test = train_test_split(X,\n",
        "                    y, test_size=0.2, random_state=42)"
      ]
    },
    {
      "cell_type": "code",
      "execution_count": 3,
      "metadata": {
        "id": "dxiPLwMsMnTk"
      },
      "outputs": [],
      "source": [
        "from sklearn.preprocessing import MinMaxScaler\n",
        "from sklearn.pipeline import make_pipeline\n",
        "from sklearn.svm import SVC\n",
        "\n",
        "svm = make_pipeline(MinMaxScaler(\n",
        "                    feature_range=(-1, 1)),\n",
        "                    SVC(gamma='auto'))"
      ]
    },
    {
      "cell_type": "code",
      "execution_count": 4,
      "metadata": {
        "colab": {
          "base_uri": "https://localhost:8080/"
        },
        "id": "WvDlehbpMtJB",
        "outputId": "0d20afbf-a428-4e77-ad3e-c7ba081c13b9"
      },
      "outputs": [
        {
          "output_type": "stream",
          "name": "stdout",
          "text": [
            "CV accuracy: 0.985\n",
            "Test accuracy: 0.981\n"
          ]
        }
      ],
      "source": [
        "cv_acc = cross_val_score(svm, X_train, y_train, cv=10)\n",
        "test_acc = (svm.fit(X_train, y_train)\n",
        "                       .score(X_test, y_test))\n",
        "print(f\"CV accuracy: {np.mean(cv_acc):0.3f}\")\n",
        "print(f\"Test accuracy: {test_acc:0.3f}\")"
      ]
    },
    {
      "cell_type": "code",
      "execution_count": 5,
      "metadata": {
        "colab": {
          "base_uri": "https://localhost:8080/"
        },
        "id": "2BZBM6XcMt_n",
        "outputId": "5f92bec4-efc6-4cfb-9dc2-294b567811d4"
      },
      "outputs": [
        {
          "output_type": "stream",
          "name": "stdout",
          "text": [
            "Best parameter: {'svc__C': np.float64(10.0), 'svc__gamma': np.float64(0.01), 'svc__kernel': 'rbf'}\n",
            "CV accuracy: 0.989\n",
            "Test accuracy: 0.986\n"
          ]
        }
      ],
      "source": [
        "from sklearn.model_selection import GridSearchCV\n",
        "\n",
        "search_space = [{\"svc__kernel\": [\"linear\"],\n",
        "                 \"svc__C\": np.logspace(-3, 3, 7)},\n",
        "                {\"svc__kernel\": [\"rbf\"],\n",
        "                 \"svc__C\": np.logspace(-3, 3, 7),\n",
        "                 \"svc__gamma\": np.logspace(-3, 2, 6)}]\n",
        "gridsearch = GridSearchCV(svm,\n",
        "                          param_grid=search_space,\n",
        "                          refit=True, cv=10,\n",
        "                          n_jobs=-2)\n",
        "gridsearch.fit(X_train, y_train)\n",
        "print(f\"Best parameter: {gridsearch.best_params_}\")\n",
        "cv_acc = gridsearch.best_score_\n",
        "test_acc = gridsearch.score(X_test, y_test)\n",
        "print(f\"CV accuracy: {np.mean(cv_acc):0.3f}\")\n",
        "print(f\"Test accuracy: {test_acc:0.3f}\")"
      ]
    }
  ],
  "metadata": {
    "colab": {
      "provenance": [],
      "authorship_tag": "ABX9TyOtLOhOQntv5eyb7t3fW5z+",
      "include_colab_link": true
    },
    "kernelspec": {
      "display_name": "Python 3",
      "name": "python3"
    },
    "language_info": {
      "name": "python"
    }
  },
  "nbformat": 4,
  "nbformat_minor": 0
}