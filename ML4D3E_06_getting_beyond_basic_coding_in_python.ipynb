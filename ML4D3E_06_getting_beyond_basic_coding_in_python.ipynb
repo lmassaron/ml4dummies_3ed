{
  "nbformat": 4,
  "nbformat_minor": 0,
  "metadata": {
    "colab": {
      "provenance": [],
      "authorship_tag": "ABX9TyOywhFdWrx5TceYQ00sYH5P",
      "include_colab_link": true
    },
    "kernelspec": {
      "name": "python3",
      "display_name": "Python 3"
    },
    "language_info": {
      "name": "python"
    }
  },
  "cells": [
    {
      "cell_type": "markdown",
      "metadata": {
        "id": "view-in-github",
        "colab_type": "text"
      },
      "source": [
        "<a href=\"https://colab.research.google.com/github/lmassaron/ml4dummies_3ed/blob/main/ML4D3E_5_getting_beyond_basic_coding_in_python.ipynb\" target=\"_parent\"><img src=\"https://colab.research.google.com/assets/colab-badge.svg\" alt=\"Open In Colab\"/></a>"
      ]
    },
    {
      "cell_type": "code",
      "source": [
        "def DoSum(Value1, Value2):\n",
        "    return Value1 + Value2"
      ],
      "metadata": {
        "id": "sOLXf3-uMuZx"
      },
      "execution_count": 1,
      "outputs": []
    },
    {
      "cell_type": "code",
      "source": [
        "DoSum(1, 2)"
      ],
      "metadata": {
        "colab": {
          "base_uri": "https://localhost:8080/"
        },
        "id": "KxP9qGHFMuWw",
        "outputId": "f02bce30-7f4a-4c9f-a6bb-bd2a8abb7c04"
      },
      "execution_count": 2,
      "outputs": [
        {
          "output_type": "execute_result",
          "data": {
            "text/plain": [
              "3"
            ]
          },
          "metadata": {},
          "execution_count": 2
        }
      ]
    },
    {
      "cell_type": "code",
      "source": [
        "def DisplaySum(Value1, Value2):\n",
        "    print(str(Value1) + ' + ' + str(Value2) + ' = ' +\n",
        "    str((Value1 + Value2)))"
      ],
      "metadata": {
        "id": "TCm8L2F9MuUF"
      },
      "execution_count": 3,
      "outputs": []
    },
    {
      "cell_type": "code",
      "source": [
        "DisplaySum(2, 3)"
      ],
      "metadata": {
        "colab": {
          "base_uri": "https://localhost:8080/"
        },
        "id": "R8Yq6vuxMuRc",
        "outputId": "8a718d39-1f2c-4d2d-c03a-4c2303629511"
      },
      "execution_count": 4,
      "outputs": [
        {
          "output_type": "stream",
          "name": "stdout",
          "text": [
            "2 + 3 = 5\n"
          ]
        }
      ]
    },
    {
      "cell_type": "code",
      "source": [
        "DisplaySum(Value2 = 3, Value1 = 2)"
      ],
      "metadata": {
        "colab": {
          "base_uri": "https://localhost:8080/"
        },
        "id": "jDRI5OqyMuOC",
        "outputId": "fb21723d-c7c8-4484-cefa-d127dd1f420b"
      },
      "execution_count": 5,
      "outputs": [
        {
          "output_type": "stream",
          "name": "stdout",
          "text": [
            "2 + 3 = 5\n"
          ]
        }
      ]
    },
    {
      "cell_type": "code",
      "source": [
        "def SayHello(Greeting = \"No Value Supplied\"):\n",
        "    print(Greeting)"
      ],
      "metadata": {
        "id": "mVuZ-bw6MuK6"
      },
      "execution_count": 6,
      "outputs": []
    },
    {
      "cell_type": "code",
      "source": [
        "SayHello()"
      ],
      "metadata": {
        "colab": {
          "base_uri": "https://localhost:8080/"
        },
        "id": "PlzotNarNdfK",
        "outputId": "07278c35-d47b-44d6-f541-51d60184f2d7"
      },
      "execution_count": 7,
      "outputs": [
        {
          "output_type": "stream",
          "name": "stdout",
          "text": [
            "No Value Supplied\n"
          ]
        }
      ]
    },
    {
      "cell_type": "code",
      "source": [
        "SayHello(\"Howdy!\")"
      ],
      "metadata": {
        "colab": {
          "base_uri": "https://localhost:8080/"
        },
        "id": "HlhEEGTmNdck",
        "outputId": "bd0ee5c1-f435-4e07-a785-159f137e0a2e"
      },
      "execution_count": 8,
      "outputs": [
        {
          "output_type": "stream",
          "name": "stdout",
          "text": [
            "Howdy!\n"
          ]
        }
      ]
    },
    {
      "cell_type": "code",
      "source": [
        "def DisplayMulti(*VarArgs):\n",
        "    print('You passed ' + str(len(VarArgs)) +\n",
        "' arguments.', VarArgs)"
      ],
      "metadata": {
        "id": "HgGUmPHDNdaN"
      },
      "execution_count": 9,
      "outputs": []
    },
    {
      "cell_type": "code",
      "source": [
        "DisplayMulti(3, \"Hello\", 1, True)"
      ],
      "metadata": {
        "colab": {
          "base_uri": "https://localhost:8080/"
        },
        "id": "76sdoEGANdXn",
        "outputId": "41df84cf-c484-408f-b447-b073f6759c17"
      },
      "execution_count": 10,
      "outputs": [
        {
          "output_type": "stream",
          "name": "stdout",
          "text": [
            "You passed 4 arguments. (3, 'Hello', 1, True)\n"
          ]
        }
      ]
    },
    {
      "cell_type": "code",
      "source": [
        "import os\n",
        "os.getcwd()"
      ],
      "metadata": {
        "colab": {
          "base_uri": "https://localhost:8080/",
          "height": 35
        },
        "id": "Wi-6LnvjNdU3",
        "outputId": "a652dfb8-2525-44b7-b80f-ae58ea1b0900"
      },
      "execution_count": 11,
      "outputs": [
        {
          "output_type": "execute_result",
          "data": {
            "text/plain": [
              "'/content'"
            ],
            "application/vnd.google.colaboratory.intrinsic+json": {
              "type": "string"
            }
          },
          "metadata": {},
          "execution_count": 11
        }
      ]
    },
    {
      "cell_type": "code",
      "source": [
        "import os\n",
        "os.chdir('sample_data')"
      ],
      "metadata": {
        "id": "ykkceksMNdR8"
      },
      "execution_count": 12,
      "outputs": []
    },
    {
      "cell_type": "code",
      "source": [
        "import os\n",
        "os.environ['PYTHONPATH']"
      ],
      "metadata": {
        "colab": {
          "base_uri": "https://localhost:8080/",
          "height": 35
        },
        "id": "c6ADc_6iNdL5",
        "outputId": "4d303fc9-f0d1-45ef-cc51-15b5ca09a673"
      },
      "execution_count": 13,
      "outputs": [
        {
          "output_type": "execute_result",
          "data": {
            "text/plain": [
              "'/env/python'"
            ],
            "application/vnd.google.colaboratory.intrinsic+json": {
              "type": "string"
            }
          },
          "metadata": {},
          "execution_count": 13
        }
      ]
    },
    {
      "cell_type": "code",
      "source": [
        "SetA = set(['Red', 'Blue', 'Green', 'Black'])\n",
        "SetB = set(['Black', 'Green', 'Yellow', 'Orange'])"
      ],
      "metadata": {
        "id": "kVf0diEUNdIi"
      },
      "execution_count": 14,
      "outputs": []
    },
    {
      "cell_type": "code",
      "source": [
        "SetX = SetA.union(SetB)\n",
        "SetY = SetA.intersection(SetB)\n",
        "SetZ = SetA.difference(SetB)"
      ],
      "metadata": {
        "id": "FrolsCdHOUUT"
      },
      "execution_count": 15,
      "outputs": []
    },
    {
      "cell_type": "code",
      "source": [
        "print('{0}\\n{1}\\n{2}'.format(SetX, SetY, SetZ))"
      ],
      "metadata": {
        "colab": {
          "base_uri": "https://localhost:8080/"
        },
        "id": "dt5J_zk0Oeu9",
        "outputId": "2af8e820-b595-4b89-a1c8-721ee343d9ea"
      },
      "execution_count": 16,
      "outputs": [
        {
          "output_type": "stream",
          "name": "stdout",
          "text": [
            "{'Orange', 'Blue', 'Yellow', 'Green', 'Black', 'Red'}\n",
            "{'Black', 'Green'}\n",
            "{'Blue', 'Red'}\n"
          ]
        }
      ]
    },
    {
      "cell_type": "code",
      "source": [
        "SetA.issuperset(SetY)"
      ],
      "metadata": {
        "colab": {
          "base_uri": "https://localhost:8080/"
        },
        "id": "5cWDyU2HOesI",
        "outputId": "7696d576-6f9f-4da7-cabf-35dc11e106b2"
      },
      "execution_count": 17,
      "outputs": [
        {
          "output_type": "execute_result",
          "data": {
            "text/plain": [
              "True"
            ]
          },
          "metadata": {},
          "execution_count": 17
        }
      ]
    },
    {
      "cell_type": "code",
      "source": [
        "SetA.issubset(SetX)"
      ],
      "metadata": {
        "colab": {
          "base_uri": "https://localhost:8080/"
        },
        "id": "XKDcPD6KOepZ",
        "outputId": "853fb8aa-14e2-421b-a7fd-20c50ea4255e"
      },
      "execution_count": 18,
      "outputs": [
        {
          "output_type": "execute_result",
          "data": {
            "text/plain": [
              "True"
            ]
          },
          "metadata": {},
          "execution_count": 18
        }
      ]
    },
    {
      "cell_type": "code",
      "source": [
        "ListA = [0, 1, 2, 3]\n",
        "ListB = [4, 5, 6, 7]\n",
        "ListA.extend(ListB)\n",
        "ListA"
      ],
      "metadata": {
        "colab": {
          "base_uri": "https://localhost:8080/"
        },
        "id": "6BuXxN5kOemq",
        "outputId": "25e175f1-5051-4b45-8acf-d0ba743c325d"
      },
      "execution_count": 19,
      "outputs": [
        {
          "output_type": "execute_result",
          "data": {
            "text/plain": [
              "[0, 1, 2, 3, 4, 5, 6, 7]"
            ]
          },
          "metadata": {},
          "execution_count": 19
        }
      ]
    },
    {
      "cell_type": "code",
      "source": [
        "ListA.append(-5)"
      ],
      "metadata": {
        "id": "Gqba2Jf3PRcz"
      },
      "execution_count": 20,
      "outputs": []
    },
    {
      "cell_type": "code",
      "source": [
        "ListA"
      ],
      "metadata": {
        "colab": {
          "base_uri": "https://localhost:8080/"
        },
        "id": "Ys8JI2eFPS8H",
        "outputId": "c196cbb7-b795-45c4-9e79-8111922deb2a"
      },
      "execution_count": 21,
      "outputs": [
        {
          "output_type": "execute_result",
          "data": {
            "text/plain": [
              "[0, 1, 2, 3, 4, 5, 6, 7, -5]"
            ]
          },
          "metadata": {},
          "execution_count": 21
        }
      ]
    },
    {
      "cell_type": "code",
      "source": [
        "ListA.remove(-5)"
      ],
      "metadata": {
        "id": "SkRFBZRIOejq"
      },
      "execution_count": 22,
      "outputs": []
    },
    {
      "cell_type": "code",
      "source": [
        "ListA"
      ],
      "metadata": {
        "colab": {
          "base_uri": "https://localhost:8080/"
        },
        "id": "_w6WqCkGOUQ3",
        "outputId": "6c7e3a60-9e4a-47f1-911b-903b20dbfed2"
      },
      "execution_count": 23,
      "outputs": [
        {
          "output_type": "execute_result",
          "data": {
            "text/plain": [
              "[0, 1, 2, 3, 4, 5, 6, 7]"
            ]
          },
          "metadata": {},
          "execution_count": 23
        }
      ]
    },
    {
      "cell_type": "code",
      "source": [
        "ListX = ListA + ListB"
      ],
      "metadata": {
        "id": "KAgO4RMvPX6V"
      },
      "execution_count": 24,
      "outputs": []
    },
    {
      "cell_type": "code",
      "source": [
        "ListX"
      ],
      "metadata": {
        "colab": {
          "base_uri": "https://localhost:8080/"
        },
        "id": "DQnkbLZWPX3W",
        "outputId": "faf3c188-16ec-4f1b-febb-2229039b8ab4"
      },
      "execution_count": 25,
      "outputs": [
        {
          "output_type": "execute_result",
          "data": {
            "text/plain": [
              "[0, 1, 2, 3, 4, 5, 6, 7, 4, 5, 6, 7]"
            ]
          },
          "metadata": {},
          "execution_count": 25
        }
      ]
    },
    {
      "cell_type": "code",
      "source": [
        "Letters = [letter.upper() for letter in \"Hello\"]\n",
        "print(Letters)"
      ],
      "metadata": {
        "colab": {
          "base_uri": "https://localhost:8080/"
        },
        "id": "_iRxVwZnPX0n",
        "outputId": "16f53f0d-0ac6-41eb-c46f-76170df7066c"
      },
      "execution_count": 26,
      "outputs": [
        {
          "output_type": "stream",
          "name": "stdout",
          "text": [
            "['H', 'E', 'L', 'L', 'O']\n"
          ]
        }
      ]
    },
    {
      "cell_type": "code",
      "source": [
        "MyTuple = (1, 2, 3, (4, 5, 6, (7, 8, 9)))"
      ],
      "metadata": {
        "id": "OFTLv-o4PXxx"
      },
      "execution_count": 27,
      "outputs": []
    },
    {
      "cell_type": "code",
      "source": [
        "for Value1 in MyTuple:\n",
        "    if type(Value1) == int:\n",
        "        print(Value1)\n",
        "    else:\n",
        "        for Value2 in Value1:\n",
        "            if type(Value2) == int:\n",
        "                print(\"\\t\", Value2)\n",
        "            else:\n",
        "                for Value3 in Value2:\n",
        "                   print(\"\\t\\t\", Value3)"
      ],
      "metadata": {
        "colab": {
          "base_uri": "https://localhost:8080/"
        },
        "id": "NcHRgv4bPXvD",
        "outputId": "8fba29bc-eede-49b7-f725-45fdf9bd5055"
      },
      "execution_count": 28,
      "outputs": [
        {
          "output_type": "stream",
          "name": "stdout",
          "text": [
            "1\n",
            "2\n",
            "3\n",
            "\t 4\n",
            "\t 5\n",
            "\t 6\n",
            "\t\t 7\n",
            "\t\t 8\n",
            "\t\t 9\n"
          ]
        }
      ]
    },
    {
      "cell_type": "code",
      "source": [
        "ListA = ['Orange', 'Yellow', 'Green', 'Brown']\n",
        "ListB = [1, 2, 3, 4]"
      ],
      "metadata": {
        "id": "4dkX_eOKPXsC"
      },
      "execution_count": 29,
      "outputs": []
    },
    {
      "cell_type": "code",
      "source": [
        "for Value in ListB[1:3]:\n",
        "    print(Value)"
      ],
      "metadata": {
        "colab": {
          "base_uri": "https://localhost:8080/"
        },
        "id": "arpudwqMPXo4",
        "outputId": "37295517-a3bb-4dda-f9bd-dc5b7d3d3272"
      },
      "execution_count": 30,
      "outputs": [
        {
          "output_type": "stream",
          "name": "stdout",
          "text": [
            "2\n",
            "3\n"
          ]
        }
      ]
    },
    {
      "cell_type": "code",
      "source": [
        "for Value1, Value2 in zip(ListA, ListB):\n",
        "    print(Value1, '\\t', Value2)"
      ],
      "metadata": {
        "colab": {
          "base_uri": "https://localhost:8080/"
        },
        "id": "AigQBs1HQI8X",
        "outputId": "4ea224af-1ab7-4d68-d478-75bcbdffc1a2"
      },
      "execution_count": 31,
      "outputs": [
        {
          "output_type": "stream",
          "name": "stdout",
          "text": [
            "Orange \t 1\n",
            "Yellow \t 2\n",
            "Green \t 3\n",
            "Brown \t 4\n"
          ]
        }
      ]
    },
    {
      "cell_type": "code",
      "source": [
        "def MyLetter():\n",
        "   for Letter in Letters:\n",
        "      yield Letter"
      ],
      "metadata": {
        "id": "dCofFcUrQI51"
      },
      "execution_count": 32,
      "outputs": []
    },
    {
      "cell_type": "code",
      "source": [
        "ListIt = MyLetter()"
      ],
      "metadata": {
        "id": "6S78aDPfQI2-"
      },
      "execution_count": 33,
      "outputs": []
    },
    {
      "cell_type": "code",
      "source": [
        "next(ListIt)"
      ],
      "metadata": {
        "colab": {
          "base_uri": "https://localhost:8080/",
          "height": 35
        },
        "id": "OoU9eGOcQIzj",
        "outputId": "a02bb1d8-ffcb-46cd-fce8-232eb5fdc354"
      },
      "execution_count": 34,
      "outputs": [
        {
          "output_type": "execute_result",
          "data": {
            "text/plain": [
              "'H'"
            ],
            "application/vnd.google.colaboratory.intrinsic+json": {
              "type": "string"
            }
          },
          "metadata": {},
          "execution_count": 34
        }
      ]
    },
    {
      "cell_type": "code",
      "source": [
        "next(ListIt)"
      ],
      "metadata": {
        "colab": {
          "base_uri": "https://localhost:8080/",
          "height": 35
        },
        "id": "kKi5mgXXOUM9",
        "outputId": "71f543ec-4536-42ab-9ca2-22adccdeb270"
      },
      "execution_count": 35,
      "outputs": [
        {
          "output_type": "execute_result",
          "data": {
            "text/plain": [
              "'E'"
            ],
            "application/vnd.google.colaboratory.intrinsic+json": {
              "type": "string"
            }
          },
          "metadata": {},
          "execution_count": 35
        }
      ]
    },
    {
      "cell_type": "code",
      "source": [
        "next(ListIt)"
      ],
      "metadata": {
        "colab": {
          "base_uri": "https://localhost:8080/",
          "height": 35
        },
        "id": "ayAPtOd9QZGO",
        "outputId": "9e98673f-f1f5-4f86-f28a-746302a74920"
      },
      "execution_count": 36,
      "outputs": [
        {
          "output_type": "execute_result",
          "data": {
            "text/plain": [
              "'L'"
            ],
            "application/vnd.google.colaboratory.intrinsic+json": {
              "type": "string"
            }
          },
          "metadata": {},
          "execution_count": 36
        }
      ]
    },
    {
      "cell_type": "code",
      "source": [
        "next(ListIt)"
      ],
      "metadata": {
        "colab": {
          "base_uri": "https://localhost:8080/",
          "height": 35
        },
        "id": "EDvcq9TEQZDb",
        "outputId": "1c022fa3-25d7-444b-d161-b3bb726563fd"
      },
      "execution_count": 37,
      "outputs": [
        {
          "output_type": "execute_result",
          "data": {
            "text/plain": [
              "'L'"
            ],
            "application/vnd.google.colaboratory.intrinsic+json": {
              "type": "string"
            }
          },
          "metadata": {},
          "execution_count": 37
        }
      ]
    },
    {
      "cell_type": "code",
      "source": [
        "next(ListIt)"
      ],
      "metadata": {
        "colab": {
          "base_uri": "https://localhost:8080/",
          "height": 35
        },
        "id": "YjRaKjhvQY_f",
        "outputId": "49f3bae1-af9f-480a-b0fd-0fa6a0fb697d"
      },
      "execution_count": 38,
      "outputs": [
        {
          "output_type": "execute_result",
          "data": {
            "text/plain": [
              "'O'"
            ],
            "application/vnd.google.colaboratory.intrinsic+json": {
              "type": "string"
            }
          },
          "metadata": {},
          "execution_count": 38
        }
      ]
    },
    {
      "cell_type": "code",
      "execution_count": 39,
      "metadata": {
        "id": "Xx0Mj0OBSMUe"
      },
      "outputs": [],
      "source": [
        "class Student:\n",
        "  def __init__(self, name, scores):\n",
        "        self.name = name\n",
        "        self.scores = list(scores)\n",
        "        print(f\"Student object created for: {self.name}\")\n",
        "  def calculate_average_score(self):\n",
        "          return sum(self.scores) / len(self.scores)"
      ]
    },
    {
      "cell_type": "code",
      "source": [
        "alfred = Student(name=\"Alfred\", scores=[80, 91, 78])"
      ],
      "metadata": {
        "colab": {
          "base_uri": "https://localhost:8080/"
        },
        "id": "D2O8vnY-TEZV",
        "outputId": "87339869-04c3-4e5a-da6c-45b23b896967"
      },
      "execution_count": 40,
      "outputs": [
        {
          "output_type": "stream",
          "name": "stdout",
          "text": [
            "Student object created for: Alfred\n"
          ]
        }
      ]
    },
    {
      "cell_type": "code",
      "source": [
        "alfred.calculate_average_score()"
      ],
      "metadata": {
        "colab": {
          "base_uri": "https://localhost:8080/"
        },
        "id": "FazKB7bvTYY6",
        "outputId": "5f73bcbb-3a1d-46c0-ea0c-ad567189fa0a"
      },
      "execution_count": 41,
      "outputs": [
        {
          "output_type": "execute_result",
          "data": {
            "text/plain": [
              "83.0"
            ]
          },
          "metadata": {},
          "execution_count": 41
        }
      ]
    },
    {
      "cell_type": "code",
      "source": [
        "alfred.scores = [80, 91, 78, 95]\n",
        "alfred.calculate_average_score()"
      ],
      "metadata": {
        "colab": {
          "base_uri": "https://localhost:8080/"
        },
        "id": "VCbiK0BATdyg",
        "outputId": "da8055ae-53f0-4a62-a52e-e0648867e045"
      },
      "execution_count": 42,
      "outputs": [
        {
          "output_type": "execute_result",
          "data": {
            "text/plain": [
              "86.0"
            ]
          },
          "metadata": {},
          "execution_count": 42
        }
      ]
    }
  ]
}