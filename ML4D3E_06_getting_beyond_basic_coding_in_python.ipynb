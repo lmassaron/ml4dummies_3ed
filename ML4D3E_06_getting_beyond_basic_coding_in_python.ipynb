{
  "nbformat": 4,
  "nbformat_minor": 0,
  "metadata": {
    "colab": {
      "provenance": [],
      "authorship_tag": "ABX9TyPCZ8e2BwEiUUPSuQAY6DLi",
      "include_colab_link": true
    },
    "kernelspec": {
      "name": "python3",
      "display_name": "Python 3"
    },
    "language_info": {
      "name": "python"
    }
  },
  "cells": [
    {
      "cell_type": "markdown",
      "metadata": {
        "id": "view-in-github",
        "colab_type": "text"
      },
      "source": [
        "<a href=\"https://colab.research.google.com/github/lmassaron/ml4dummies_3ed/blob/main/ML4D3E_06_getting_beyond_basic_coding_in_python.ipynb\" target=\"_parent\"><img src=\"https://colab.research.google.com/assets/colab-badge.svg\" alt=\"Open In Colab\"/></a>"
      ]
    },
    {
      "cell_type": "code",
      "source": [
        "def say_hello():\n",
        "    return \"Hello There!\""
      ],
      "metadata": {
        "id": "sOLXf3-uMuZx"
      },
      "execution_count": 1,
      "outputs": []
    },
    {
      "cell_type": "code",
      "source": [
        "say_hello()"
      ],
      "metadata": {
        "id": "bMSG4rbKDKSO",
        "outputId": "c039b82a-af61-4676-98ad-6a485afeaccd",
        "colab": {
          "base_uri": "https://localhost:8080/",
          "height": 35
        }
      },
      "execution_count": 2,
      "outputs": [
        {
          "output_type": "execute_result",
          "data": {
            "text/plain": [
              "'Hello There!'"
            ],
            "application/vnd.google.colaboratory.intrinsic+json": {
              "type": "string"
            }
          },
          "metadata": {},
          "execution_count": 2
        }
      ]
    },
    {
      "cell_type": "code",
      "source": [
        "def do_sum(value_1, value_2):\n",
        "    return value_1 + value_2"
      ],
      "metadata": {
        "id": "KxP9qGHFMuWw"
      },
      "execution_count": 3,
      "outputs": []
    },
    {
      "cell_type": "code",
      "source": [
        "do_sum(1, 2)"
      ],
      "metadata": {
        "id": "iNSh1j6jDNiz",
        "outputId": "df522726-6390-4cd3-e553-123e304eb365",
        "colab": {
          "base_uri": "https://localhost:8080/"
        }
      },
      "execution_count": 4,
      "outputs": [
        {
          "output_type": "execute_result",
          "data": {
            "text/plain": [
              "3"
            ]
          },
          "metadata": {},
          "execution_count": 4
        }
      ]
    },
    {
      "cell_type": "code",
      "source": [
        "def display_sum(value_1, value_2):\n",
        "    print(str(value_1) + ' + ' + str(value_2) + ' = ' +\n",
        "        str((value_1 + value_2)))"
      ],
      "metadata": {
        "id": "TCm8L2F9MuUF"
      },
      "execution_count": 5,
      "outputs": []
    },
    {
      "cell_type": "code",
      "source": [
        "display_sum(2, 3)"
      ],
      "metadata": {
        "colab": {
          "base_uri": "https://localhost:8080/"
        },
        "id": "R8Yq6vuxMuRc",
        "outputId": "0f2f5c85-67f1-4e14-d8ff-2d1be7cad239"
      },
      "execution_count": 6,
      "outputs": [
        {
          "output_type": "stream",
          "name": "stdout",
          "text": [
            "2 + 3 = 5\n"
          ]
        }
      ]
    },
    {
      "cell_type": "code",
      "source": [
        "display_sum(value_2=3, value_1=2)"
      ],
      "metadata": {
        "colab": {
          "base_uri": "https://localhost:8080/"
        },
        "id": "jDRI5OqyMuOC",
        "outputId": "ae6f3a22-f0ed-4093-ff72-10a29ca4a36a"
      },
      "execution_count": 7,
      "outputs": [
        {
          "output_type": "stream",
          "name": "stdout",
          "text": [
            "2 + 3 = 5\n"
          ]
        }
      ]
    },
    {
      "cell_type": "code",
      "source": [
        "def say_hello(Greeting = \"No Value Supplied\"):\n",
        "    print(Greeting)"
      ],
      "metadata": {
        "id": "mVuZ-bw6MuK6"
      },
      "execution_count": 8,
      "outputs": []
    },
    {
      "cell_type": "code",
      "source": [
        "say_hello()"
      ],
      "metadata": {
        "colab": {
          "base_uri": "https://localhost:8080/"
        },
        "id": "PlzotNarNdfK",
        "outputId": "a53e0033-67cb-4cc6-e221-4363c1d93248"
      },
      "execution_count": 9,
      "outputs": [
        {
          "output_type": "stream",
          "name": "stdout",
          "text": [
            "No Value Supplied\n"
          ]
        }
      ]
    },
    {
      "cell_type": "code",
      "source": [
        "say_hello(\"Howdy!\")"
      ],
      "metadata": {
        "colab": {
          "base_uri": "https://localhost:8080/"
        },
        "id": "HlhEEGTmNdck",
        "outputId": "6b981231-bc81-473c-f0d0-605555840d48"
      },
      "execution_count": 10,
      "outputs": [
        {
          "output_type": "stream",
          "name": "stdout",
          "text": [
            "Howdy!\n"
          ]
        }
      ]
    },
    {
      "cell_type": "code",
      "source": [
        "def display_multi(*args):\n",
        "    print('You passed ' + str(len(args)) +\n",
        "        ' arguments.', args)"
      ],
      "metadata": {
        "id": "HgGUmPHDNdaN"
      },
      "execution_count": 11,
      "outputs": []
    },
    {
      "cell_type": "code",
      "source": [
        "display_multi(3, \"Hello\", 1, True)"
      ],
      "metadata": {
        "colab": {
          "base_uri": "https://localhost:8080/"
        },
        "id": "76sdoEGANdXn",
        "outputId": "d27b1a35-d959-400f-8d7e-27b626f2480d"
      },
      "execution_count": 12,
      "outputs": [
        {
          "output_type": "stream",
          "name": "stdout",
          "text": [
            "You passed 4 arguments. (3, 'Hello', 1, True)\n"
          ]
        }
      ]
    },
    {
      "cell_type": "code",
      "source": [
        "import os\n",
        "os.getcwd()"
      ],
      "metadata": {
        "colab": {
          "base_uri": "https://localhost:8080/",
          "height": 35
        },
        "id": "Wi-6LnvjNdU3",
        "outputId": "3c7549ae-9120-4d5c-e532-8751d31570df"
      },
      "execution_count": 13,
      "outputs": [
        {
          "output_type": "execute_result",
          "data": {
            "text/plain": [
              "'/content'"
            ],
            "application/vnd.google.colaboratory.intrinsic+json": {
              "type": "string"
            }
          },
          "metadata": {},
          "execution_count": 13
        }
      ]
    },
    {
      "cell_type": "code",
      "source": [
        "import os\n",
        "os.chdir('sample_data')"
      ],
      "metadata": {
        "id": "ykkceksMNdR8"
      },
      "execution_count": 14,
      "outputs": []
    },
    {
      "cell_type": "code",
      "source": [
        "import os\n",
        "os.environ['PYTHONPATH']"
      ],
      "metadata": {
        "colab": {
          "base_uri": "https://localhost:8080/",
          "height": 35
        },
        "id": "c6ADc_6iNdL5",
        "outputId": "1af81b02-fc2f-4bf6-b923-ad39f1f453c9"
      },
      "execution_count": 15,
      "outputs": [
        {
          "output_type": "execute_result",
          "data": {
            "text/plain": [
              "'/env/python'"
            ],
            "application/vnd.google.colaboratory.intrinsic+json": {
              "type": "string"
            }
          },
          "metadata": {},
          "execution_count": 15
        }
      ]
    },
    {
      "cell_type": "code",
      "source": [
        "list_a = [0, 1, 2, 3]\n",
        "list_b = [4, 5, 6, 7]\n",
        "list_a.extend(list_b)\n",
        "list_a"
      ],
      "metadata": {
        "id": "I8JUP2TlD8Ee",
        "outputId": "624c0353-953b-463c-c50b-634546558fa6",
        "colab": {
          "base_uri": "https://localhost:8080/"
        }
      },
      "execution_count": 16,
      "outputs": [
        {
          "output_type": "execute_result",
          "data": {
            "text/plain": [
              "[0, 1, 2, 3, 4, 5, 6, 7]"
            ]
          },
          "metadata": {},
          "execution_count": 16
        }
      ]
    },
    {
      "cell_type": "code",
      "source": [
        "list_a.append(-5)"
      ],
      "metadata": {
        "id": "-yrmaCD_D89b"
      },
      "execution_count": 17,
      "outputs": []
    },
    {
      "cell_type": "code",
      "source": [
        "list_a"
      ],
      "metadata": {
        "id": "aCsBpRwZEGTQ",
        "outputId": "dd105754-abd1-4435-f2ed-c34dc2324cf9",
        "colab": {
          "base_uri": "https://localhost:8080/"
        }
      },
      "execution_count": 18,
      "outputs": [
        {
          "output_type": "execute_result",
          "data": {
            "text/plain": [
              "[0, 1, 2, 3, 4, 5, 6, 7, -5]"
            ]
          },
          "metadata": {},
          "execution_count": 18
        }
      ]
    },
    {
      "cell_type": "code",
      "source": [
        "list_a.remove(-5)"
      ],
      "metadata": {
        "id": "pn8CJHveEHGQ"
      },
      "execution_count": 19,
      "outputs": []
    },
    {
      "cell_type": "code",
      "source": [
        "list_a"
      ],
      "metadata": {
        "id": "eFVlAis8ELm4",
        "outputId": "cb700e3d-2a92-4abd-9374-223e1564274a",
        "colab": {
          "base_uri": "https://localhost:8080/"
        }
      },
      "execution_count": 20,
      "outputs": [
        {
          "output_type": "execute_result",
          "data": {
            "text/plain": [
              "[0, 1, 2, 3, 4, 5, 6, 7]"
            ]
          },
          "metadata": {},
          "execution_count": 20
        }
      ]
    },
    {
      "cell_type": "code",
      "source": [
        "list_x= list_a + list_b"
      ],
      "metadata": {
        "id": "6YgdW6NvEMMO"
      },
      "execution_count": 21,
      "outputs": []
    },
    {
      "cell_type": "code",
      "source": [
        "list_x"
      ],
      "metadata": {
        "id": "S4dfAQodETzj",
        "outputId": "f42a077b-15a6-4793-d17e-d164958ecf53",
        "colab": {
          "base_uri": "https://localhost:8080/"
        }
      },
      "execution_count": 22,
      "outputs": [
        {
          "output_type": "execute_result",
          "data": {
            "text/plain": [
              "[0, 1, 2, 3, 4, 5, 6, 7, 4, 5, 6, 7]"
            ]
          },
          "metadata": {},
          "execution_count": 22
        }
      ]
    },
    {
      "cell_type": "code",
      "source": [
        "my_list = []\n",
        "for letter in \"Hello\":\n",
        "  my_list.append(letter)\n",
        "\n",
        "print(my_list)"
      ],
      "metadata": {
        "id": "UG6LteDqHddR",
        "outputId": "d5c49d5d-8282-4fdb-8633-19ee970f2101",
        "colab": {
          "base_uri": "https://localhost:8080/"
        }
      },
      "execution_count": 23,
      "outputs": [
        {
          "output_type": "stream",
          "name": "stdout",
          "text": [
            "['H', 'e', 'l', 'l', 'o']\n"
          ]
        }
      ]
    },
    {
      "cell_type": "code",
      "source": [
        "letters = [letter.upper() for letter in \"Hello\"]\n",
        "print(letters)"
      ],
      "metadata": {
        "id": "rc-y6NGsEUjV",
        "outputId": "7c25ec14-10e6-4db7-88b3-8d0bca8a0420",
        "colab": {
          "base_uri": "https://localhost:8080/"
        }
      },
      "execution_count": 24,
      "outputs": [
        {
          "output_type": "stream",
          "name": "stdout",
          "text": [
            "['H', 'E', 'L', 'L', 'O']\n"
          ]
        }
      ]
    },
    {
      "cell_type": "code",
      "source": [
        "list_a = ['Orange', 'Yellow', 'Green', 'Brown']\n",
        "list_b = [1, 2, 3, 4]"
      ],
      "metadata": {
        "id": "xpx4cVUWEb4R"
      },
      "execution_count": 25,
      "outputs": []
    },
    {
      "cell_type": "code",
      "source": [
        "list_b[1:3]"
      ],
      "metadata": {
        "id": "FaJTyYZlIy5A",
        "outputId": "00061866-4931-4e00-a433-9fdc034722ae",
        "colab": {
          "base_uri": "https://localhost:8080/"
        }
      },
      "execution_count": 26,
      "outputs": [
        {
          "output_type": "execute_result",
          "data": {
            "text/plain": [
              "[2, 3]"
            ]
          },
          "metadata": {},
          "execution_count": 26
        }
      ]
    },
    {
      "cell_type": "code",
      "source": [
        "list_b[:3]"
      ],
      "metadata": {
        "id": "-8jp_RRsI9Yg",
        "outputId": "6fa9e45d-c3d2-4b45-8bef-2e605a29cd7c",
        "colab": {
          "base_uri": "https://localhost:8080/"
        }
      },
      "execution_count": 27,
      "outputs": [
        {
          "output_type": "execute_result",
          "data": {
            "text/plain": [
              "[1, 2, 3]"
            ]
          },
          "metadata": {},
          "execution_count": 27
        }
      ]
    },
    {
      "cell_type": "code",
      "source": [
        "list_b[-2:]"
      ],
      "metadata": {
        "id": "BXFKr3tgJAqj",
        "outputId": "aea1e469-fe75-4295-a00e-44c755f121a4",
        "colab": {
          "base_uri": "https://localhost:8080/"
        }
      },
      "execution_count": 28,
      "outputs": [
        {
          "output_type": "execute_result",
          "data": {
            "text/plain": [
              "[3, 4]"
            ]
          },
          "metadata": {},
          "execution_count": 28
        }
      ]
    },
    {
      "cell_type": "code",
      "source": [
        "for value_1, value_2 in zip(list_a, list_b):\n",
        "    print(value_1, '\\t', value_2)"
      ],
      "metadata": {
        "id": "L_iFGodHJQwS",
        "outputId": "c32dc627-f596-41d5-9b73-603e558dd79d",
        "colab": {
          "base_uri": "https://localhost:8080/"
        }
      },
      "execution_count": 29,
      "outputs": [
        {
          "output_type": "stream",
          "name": "stdout",
          "text": [
            "Orange \t 1\n",
            "Yellow \t 2\n",
            "Green \t 3\n",
            "Brown \t 4\n"
          ]
        }
      ]
    },
    {
      "cell_type": "code",
      "source": [
        "mytuple = (1, 2, 3, (4, 5, 6, (7, 8, 9)))"
      ],
      "metadata": {
        "id": "DZyI-Ns8JikK"
      },
      "execution_count": 30,
      "outputs": []
    },
    {
      "cell_type": "code",
      "source": [
        "mytuple"
      ],
      "metadata": {
        "id": "atmPvlNTJpUL",
        "outputId": "c0cf40e5-7016-4c41-8f07-ed3108540e77",
        "colab": {
          "base_uri": "https://localhost:8080/"
        }
      },
      "execution_count": 31,
      "outputs": [
        {
          "output_type": "execute_result",
          "data": {
            "text/plain": [
              "(1, 2, 3, (4, 5, 6, (7, 8, 9)))"
            ]
          },
          "metadata": {},
          "execution_count": 31
        }
      ]
    },
    {
      "cell_type": "code",
      "source": [
        "for value_1 in mytuple:\n",
        "    if isinstance(value_1, int):\n",
        "        print(value_1)\n",
        "    else:\n",
        "        for value_2 in value_1:\n",
        "            if type(value_2) == int:\n",
        "                print(\"\\t\", value_2)\n",
        "            else:\n",
        "                for value_3 in value_2:\n",
        "                   print(\"\\t\\t\", value_3)"
      ],
      "metadata": {
        "id": "WiAgkyToJqCq",
        "outputId": "d0aa90a6-235c-4831-bacd-4354793ddf7b",
        "colab": {
          "base_uri": "https://localhost:8080/"
        }
      },
      "execution_count": 32,
      "outputs": [
        {
          "output_type": "stream",
          "name": "stdout",
          "text": [
            "1\n",
            "2\n",
            "3\n",
            "\t 4\n",
            "\t 5\n",
            "\t 6\n",
            "\t\t 7\n",
            "\t\t 8\n",
            "\t\t 9\n"
          ]
        }
      ]
    },
    {
      "cell_type": "code",
      "source": [
        "mynewtuple = mytuple + ((10, 11, 12, (13, 14, 15)))"
      ],
      "metadata": {
        "id": "LiN0svvIJtHS"
      },
      "execution_count": 33,
      "outputs": []
    },
    {
      "cell_type": "code",
      "source": [
        "mynewtuple"
      ],
      "metadata": {
        "id": "_f7BpwcSJ3os",
        "outputId": "fbb3b992-2ff3-4f9d-d8d3-9a8a6a503d7d",
        "colab": {
          "base_uri": "https://localhost:8080/"
        }
      },
      "execution_count": 34,
      "outputs": [
        {
          "output_type": "execute_result",
          "data": {
            "text/plain": [
              "(1, 2, 3, (4, 5, 6, (7, 8, 9)), 10, 11, 12, (13, 14, 15))"
            ]
          },
          "metadata": {},
          "execution_count": 34
        }
      ]
    },
    {
      "cell_type": "code",
      "source": [
        "set_a = set(['Red', 'Blue', 'Green', 'Black'])\n",
        "set_b = set(['Black', 'Green', 'Yellow', 'Orange'])"
      ],
      "metadata": {
        "id": "g6u5LSTuJ4x8"
      },
      "execution_count": 35,
      "outputs": []
    },
    {
      "cell_type": "code",
      "source": [
        "set_x = set_a.union(set_b)\n",
        "set_y = set_a.intersection(set_b)\n",
        "set_z = set_a.difference(set_b)"
      ],
      "metadata": {
        "id": "IjM6DACCKANF"
      },
      "execution_count": 36,
      "outputs": []
    },
    {
      "cell_type": "code",
      "source": [
        "print(f\"{set_x}\\n{set_y}\\n{set_z}\")"
      ],
      "metadata": {
        "id": "EiJ5_JciKPZf",
        "outputId": "ad1dde69-9048-4704-c579-98736ecc394a",
        "colab": {
          "base_uri": "https://localhost:8080/"
        }
      },
      "execution_count": 37,
      "outputs": [
        {
          "output_type": "stream",
          "name": "stdout",
          "text": [
            "{'Green', 'Red', 'Orange', 'Blue', 'Black', 'Yellow'}\n",
            "{'Green', 'Black'}\n",
            "{'Blue', 'Red'}\n"
          ]
        }
      ]
    },
    {
      "cell_type": "code",
      "source": [
        "set_a.add('Purple')"
      ],
      "metadata": {
        "id": "HXSo53bpKZ67"
      },
      "execution_count": 38,
      "outputs": []
    },
    {
      "cell_type": "code",
      "source": [
        "set_a"
      ],
      "metadata": {
        "id": "BE9wEr5CKnlR",
        "outputId": "41c50a7a-782d-4a4c-8050-f91623fcb153",
        "colab": {
          "base_uri": "https://localhost:8080/"
        }
      },
      "execution_count": 39,
      "outputs": [
        {
          "output_type": "execute_result",
          "data": {
            "text/plain": [
              "{'Black', 'Blue', 'Green', 'Purple', 'Red'}"
            ]
          },
          "metadata": {},
          "execution_count": 39
        }
      ]
    },
    {
      "cell_type": "code",
      "source": [
        "my_dict = {'Orange':1, 'Blue':2, 'Pink':3}"
      ],
      "metadata": {
        "id": "f99fGPtfKoal"
      },
      "execution_count": 40,
      "outputs": []
    },
    {
      "cell_type": "code",
      "source": [
        "my_dict['Pink']"
      ],
      "metadata": {
        "id": "-WEU1ocDKzwT",
        "outputId": "6b0a22f1-d7d1-4b6b-b31e-c152e9080409",
        "colab": {
          "base_uri": "https://localhost:8080/"
        }
      },
      "execution_count": 41,
      "outputs": [
        {
          "output_type": "execute_result",
          "data": {
            "text/plain": [
              "3"
            ]
          },
          "metadata": {},
          "execution_count": 41
        }
      ]
    },
    {
      "cell_type": "code",
      "source": [
        "my_dict.keys()"
      ],
      "metadata": {
        "id": "oFRx16nqK8NQ",
        "outputId": "79b28453-386b-4d63-fddf-cad3c4cbf662",
        "colab": {
          "base_uri": "https://localhost:8080/"
        }
      },
      "execution_count": 42,
      "outputs": [
        {
          "output_type": "execute_result",
          "data": {
            "text/plain": [
              "dict_keys(['Orange', 'Blue', 'Pink'])"
            ]
          },
          "metadata": {},
          "execution_count": 42
        }
      ]
    },
    {
      "cell_type": "code",
      "source": [
        "my_dict.values()"
      ],
      "metadata": {
        "id": "GQNXONFgLCMP",
        "outputId": "8bdd02e6-acd3-4727-d394-6ea7f551fddb",
        "colab": {
          "base_uri": "https://localhost:8080/"
        }
      },
      "execution_count": 43,
      "outputs": [
        {
          "output_type": "execute_result",
          "data": {
            "text/plain": [
              "dict_values([1, 2, 3])"
            ]
          },
          "metadata": {},
          "execution_count": 43
        }
      ]
    },
    {
      "cell_type": "code",
      "source": [
        "class Student:\n",
        "  def __init__(self, name, scores):\n",
        "    self.name = name\n",
        "    self.scores = list(scores)\n",
        "    print(f\"Student object created for: {self.name}\")\n",
        "  def calculate_average_score(self):\n",
        "    return sum(self.scores) / len(self.scores)"
      ],
      "metadata": {
        "id": "DQq-EvcZLDi1"
      },
      "execution_count": 44,
      "outputs": []
    },
    {
      "cell_type": "code",
      "source": [
        "alfred = Student(name=\"Alfred\", scores=[80, 91, 78])"
      ],
      "metadata": {
        "id": "-o6lt0uELKJt",
        "outputId": "cf997890-029e-4912-c831-e7faf720cce2",
        "colab": {
          "base_uri": "https://localhost:8080/"
        }
      },
      "execution_count": 45,
      "outputs": [
        {
          "output_type": "stream",
          "name": "stdout",
          "text": [
            "Student object created for: Alfred\n"
          ]
        }
      ]
    },
    {
      "cell_type": "code",
      "source": [
        "alfred.calculate_average_score()"
      ],
      "metadata": {
        "id": "cWv3P1jnLO__",
        "outputId": "7dfe61fc-6dce-4107-ade0-a7b1091b6691",
        "colab": {
          "base_uri": "https://localhost:8080/"
        }
      },
      "execution_count": 46,
      "outputs": [
        {
          "output_type": "execute_result",
          "data": {
            "text/plain": [
              "83.0"
            ]
          },
          "metadata": {},
          "execution_count": 46
        }
      ]
    },
    {
      "cell_type": "code",
      "source": [
        "alfred.scores = [80, 91, 78, 95]\n",
        "alfred.calculate_average_score()"
      ],
      "metadata": {
        "id": "pTJzWTvmLR01",
        "outputId": "f7720e88-9c36-4e05-d161-4cd6fc37c6d7",
        "colab": {
          "base_uri": "https://localhost:8080/"
        }
      },
      "execution_count": 47,
      "outputs": [
        {
          "output_type": "execute_result",
          "data": {
            "text/plain": [
              "86.0"
            ]
          },
          "metadata": {},
          "execution_count": 47
        }
      ]
    }
  ]
}