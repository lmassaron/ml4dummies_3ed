{
  "nbformat": 4,
  "nbformat_minor": 0,
  "metadata": {
    "colab": {
      "provenance": [],
      "authorship_tag": "ABX9TyN8ARglsIXxPaEQZpd+R5gA",
      "include_colab_link": true
    },
    "kernelspec": {
      "name": "python3",
      "display_name": "Python 3"
    },
    "language_info": {
      "name": "python"
    }
  },
  "cells": [
    {
      "cell_type": "markdown",
      "metadata": {
        "id": "view-in-github",
        "colab_type": "text"
      },
      "source": [
        "<a href=\"https://colab.research.google.com/github/lmassaron/ml4dummies_3ed/blob/main/ML4D3E_18_recommending_products_and_movies.ipynb\" target=\"_parent\"><img src=\"https://colab.research.google.com/assets/colab-badge.svg\" alt=\"Open In Colab\"/></a>"
      ]
    },
    {
      "cell_type": "code",
      "source": [
        "URL = \"http://files.grouplens.org/datasets/\"\n",
        "URL += \"movielens/ml-1m.zip\"\n",
        "!wget {URL}\n",
        "!unzip ml-1m.zip"
      ],
      "metadata": {
        "colab": {
          "base_uri": "https://localhost:8080/"
        },
        "id": "jxHtKdIPQMpP",
        "outputId": "515c99a3-51c3-4cec-d45e-b8ded344d059"
      },
      "execution_count": 1,
      "outputs": [
        {
          "output_type": "stream",
          "name": "stdout",
          "text": [
            "--2025-06-01 16:47:40--  http://files.grouplens.org/datasets/movielens/ml-1m.zip\n",
            "Resolving files.grouplens.org (files.grouplens.org)... 128.101.65.152\n",
            "Connecting to files.grouplens.org (files.grouplens.org)|128.101.65.152|:80... connected.\n",
            "HTTP request sent, awaiting response... 200 OK\n",
            "Length: 5917549 (5.6M) [application/zip]\n",
            "Saving to: ‘ml-1m.zip’\n",
            "\n",
            "ml-1m.zip           100%[===================>]   5.64M  24.4MB/s    in 0.2s    \n",
            "\n",
            "2025-06-01 16:47:41 (24.4 MB/s) - ‘ml-1m.zip’ saved [5917549/5917549]\n",
            "\n",
            "Archive:  ml-1m.zip\n",
            "   creating: ml-1m/\n",
            "  inflating: ml-1m/movies.dat        \n",
            "  inflating: ml-1m/ratings.dat       \n",
            "  inflating: ml-1m/README            \n",
            "  inflating: ml-1m/users.dat         \n"
          ]
        }
      ]
    },
    {
      "cell_type": "code",
      "source": [
        "import pandas as pd\n",
        "\n",
        "users_column_names = [\n",
        "    'user_id', 'gender', 'age',\n",
        "    'occupation', 'zip']\n",
        "users = pd.read_table(\n",
        "    'ml-1m/users.dat',\n",
        "    sep='::',\n",
        "    header=None,\n",
        "    names=users_column_names,\n",
        "    engine='python')\n",
        "ratings_column_names = [\n",
        "    'user_id', 'movie_id', 'rating',\n",
        "    'timestamp']\n",
        "ratings = pd.read_table(\n",
        "    'ml-1m/ratings.dat',\n",
        "    sep='::',\n",
        "    header=None,\n",
        "    names=ratings_column_names,\n",
        "    engine='python')\n",
        "\n",
        "movies_column_names = [\n",
        "    'movie_id', 'title', 'genres']\n",
        "movies = pd.read_table(\n",
        "    'ml-1m/movies.dat',\n",
        "    sep='::',\n",
        "    header=None,\n",
        "    names=movies_column_names,\n",
        "    engine='python',\n",
        "    encoding='latin-1')\n",
        "\n",
        "movie_lens = (ratings\n",
        "    .merge(users, on='user_id')\n",
        "    .merge(movies, on='movie_id'))"
      ],
      "metadata": {
        "id": "5-D7kX6N2FQ1"
      },
      "execution_count": 2,
      "outputs": []
    },
    {
      "cell_type": "code",
      "source": [
        "print(movie_lens.head())"
      ],
      "metadata": {
        "colab": {
          "base_uri": "https://localhost:8080/"
        },
        "id": "OIUNz-z1OBws",
        "outputId": "d6f10dfd-e4af-4b6c-8b7d-1a2896afc196"
      },
      "execution_count": 3,
      "outputs": [
        {
          "output_type": "stream",
          "name": "stdout",
          "text": [
            "   user_id  movie_id  rating  timestamp gender  age  occupation    zip  \\\n",
            "0        1      1193       5  978300760      F    1          10  48067   \n",
            "1        1       661       3  978302109      F    1          10  48067   \n",
            "2        1       914       3  978301968      F    1          10  48067   \n",
            "3        1      3408       4  978300275      F    1          10  48067   \n",
            "4        1      2355       5  978824291      F    1          10  48067   \n",
            "\n",
            "                                    title                        genres  \n",
            "0  One Flew Over the Cuckoo's Nest (1975)                         Drama  \n",
            "1        James and the Giant Peach (1996)  Animation|Children's|Musical  \n",
            "2                     My Fair Lady (1964)               Musical|Romance  \n",
            "3                  Erin Brockovich (2000)                         Drama  \n",
            "4                    Bug's Life, A (1998)   Animation|Children's|Comedy  \n"
          ]
        }
      ]
    },
    {
      "cell_type": "code",
      "source": [
        "rating_counts = (movie_lens\n",
        "    .groupby(\"rating\")['user_id']\n",
        "    .count())\n",
        "print(rating_counts)"
      ],
      "metadata": {
        "colab": {
          "base_uri": "https://localhost:8080/"
        },
        "id": "R5qOHOh41QsE",
        "outputId": "04d2c9ed-ec5d-43de-f624-3573ed366c04"
      },
      "execution_count": 4,
      "outputs": [
        {
          "output_type": "stream",
          "name": "stdout",
          "text": [
            "rating\n",
            "1     56174\n",
            "2    107557\n",
            "3    261197\n",
            "4    348971\n",
            "5    226310\n",
            "Name: user_id, dtype: int64\n"
          ]
        }
      ]
    },
    {
      "cell_type": "code",
      "source": [
        "reviews_per_user = (movie_lens\n",
        "    .groupby(\"user_id\")['title']\n",
        "    .count())\n",
        "\n",
        "print(\"Average movie reviews per user:\", end=\" \")\n",
        "print(f\"{reviews_per_user.mean():.1f}\")\n",
        "\n",
        "reviews_per_movie = (movie_lens\n",
        "    .groupby(\"title\")['movie_id']\n",
        "    .count())\n",
        "\n",
        "print(\"\\nNumber of Reviews Per Movie:\")\n",
        "print(reviews_per_movie)"
      ],
      "metadata": {
        "colab": {
          "base_uri": "https://localhost:8080/"
        },
        "id": "n_w2BsdKNECl",
        "outputId": "c2f8f784-1d54-490b-f1ff-420c6482e6ea"
      },
      "execution_count": 5,
      "outputs": [
        {
          "output_type": "stream",
          "name": "stdout",
          "text": [
            "Average movie reviews per user: 165.6\n",
            "\n",
            "Number of Reviews Per Movie:\n",
            "title\n",
            "$1,000,000 Duck (1971)                         37\n",
            "'Night Mother (1986)                           70\n",
            "'Til There Was You (1997)                      52\n",
            "'burbs, The (1989)                            303\n",
            "...And Justice for All (1979)                 199\n",
            "                                             ... \n",
            "Zed & Two Noughts, A (1985)                    29\n",
            "Zero Effect (1998)                            301\n",
            "Zero Kelvin (Kjærlighetens kjøtere) (1995)      2\n",
            "Zeus and Roxanne (1997)                        23\n",
            "eXistenZ (1999)                               410\n",
            "Name: movie_id, Length: 3706, dtype: int64\n"
          ]
        }
      ]
    },
    {
      "cell_type": "code",
      "source": [
        "selected_movie = movie_lens[\n",
        "    movie_lens[\"movie_id\"] == 260]\n",
        "\n",
        "num_ratings_for_movie = len(selected_movie)\n",
        "average_rating_for_movie = (\n",
        "    selected_movie[\"rating\"].mean())\n",
        "\n",
        "print(\n",
        "    f\"{num_ratings_for_movie} users gave an \"\n",
        "    f\"average rating of {average_rating_for_movie:.2f}\")"
      ],
      "metadata": {
        "colab": {
          "base_uri": "https://localhost:8080/"
        },
        "id": "FcYgYAVsLWTT",
        "outputId": "a8754393-f5af-4ae1-b32e-d089cf22ecce"
      },
      "execution_count": 6,
      "outputs": [
        {
          "output_type": "stream",
          "name": "stdout",
          "text": [
            "2991 users gave an average rating of 4.45\n"
          ]
        }
      ]
    },
    {
      "cell_type": "code",
      "source": [
        "reduced_movie_data = movie_lens[\n",
        "    movie_lens[\"rating\"] >= 3.0]\n",
        "\n",
        "columns_to_drop = [\n",
        "    'movie_id', 'timestamp', 'genres', 'gender',\n",
        "    'age', 'occupation', 'zip']\n",
        "reduced_movie_data = reduced_movie_data.drop(\n",
        "    columns=columns_to_drop)\n",
        "\n",
        "print(reduced_movie_data.head(), \"\\n\")\n",
        "\n",
        "original_shape = movie_lens.shape\n",
        "new_shape = reduced_movie_data.shape\n",
        "\n",
        "print(\n",
        "    f\"Original Shape: {original_shape}, \"\n",
        "    f\"New Shape: {new_shape}\")"
      ],
      "metadata": {
        "colab": {
          "base_uri": "https://localhost:8080/"
        },
        "id": "JCeh-OdNPHZC",
        "outputId": "87c9620c-533c-4b1e-854f-0b82ec5f65f4"
      },
      "execution_count": 7,
      "outputs": [
        {
          "output_type": "stream",
          "name": "stdout",
          "text": [
            "   user_id  rating                                   title\n",
            "0        1       5  One Flew Over the Cuckoo's Nest (1975)\n",
            "1        1       3        James and the Giant Peach (1996)\n",
            "2        1       3                     My Fair Lady (1964)\n",
            "3        1       4                  Erin Brockovich (2000)\n",
            "4        1       5                    Bug's Life, A (1998) \n",
            "\n",
            "Original Shape: (1000209, 10), New Shape: (836478, 3)\n"
          ]
        }
      ]
    },
    {
      "cell_type": "code",
      "source": [
        "title_total_ratings = (\n",
        "    reduced_movie_data\n",
        "    .groupby('title')['rating']\n",
        "    .transform('size'))\n",
        "is_frequently_rated = (\n",
        "    title_total_ratings > 1000)\n",
        "reduced_movie_data = reduced_movie_data[\n",
        "    is_frequently_rated]\n",
        "\n",
        "print(\n",
        "    reduced_movie_data\n",
        "    .groupby('title')['rating']\n",
        "    .count()\n",
        "    .sort_values()\n",
        "    .head(), \"\\n\")\n",
        "\n",
        "new_shape = reduced_movie_data.shape\n",
        "print(f\"New shape: {new_shape}\")"
      ],
      "metadata": {
        "colab": {
          "base_uri": "https://localhost:8080/"
        },
        "id": "IPZoWLvsPHWU",
        "outputId": "f437a2c0-5524-4b8c-d45d-5faed74161e3"
      },
      "execution_count": 8,
      "outputs": [
        {
          "output_type": "stream",
          "name": "stdout",
          "text": [
            "title\n",
            "Few Good Men, A (1992)    1003\n",
            "My Cousin Vinny (1992)    1003\n",
            "Boogie Nights (1997)      1004\n",
            "Sneakers (1992)           1009\n",
            "Witness (1985)            1009\n",
            "Name: rating, dtype: int64 \n",
            "\n",
            "New shape: (237212, 3)\n"
          ]
        }
      ]
    },
    {
      "cell_type": "code",
      "source": [
        "user_rating_pivot = pd.pivot_table(\n",
        "    reduced_movie_data,\n",
        "    index='user_id',\n",
        "    columns='title',\n",
        "    values='rating',)\n",
        "\n",
        "print(user_rating_pivot.head())"
      ],
      "metadata": {
        "colab": {
          "base_uri": "https://localhost:8080/"
        },
        "id": "FrWoBMBbPHTD",
        "outputId": "e33bb9eb-5d9b-4c26-c3b2-7d3674695ef9"
      },
      "execution_count": 9,
      "outputs": [
        {
          "output_type": "stream",
          "name": "stdout",
          "text": [
            "title    2001: A Space Odyssey (1968)  Abyss, The (1989)  \\\n",
            "user_id                                                    \n",
            "1                                 NaN                NaN   \n",
            "2                                 NaN                NaN   \n",
            "3                                 NaN                NaN   \n",
            "4                                 NaN                NaN   \n",
            "5                                 NaN                NaN   \n",
            "\n",
            "title    African Queen, The (1951)  Airplane! (1980)  Aladdin (1992)  \\\n",
            "user_id                                                                \n",
            "1                              NaN               4.0             4.0   \n",
            "2                              NaN               NaN             NaN   \n",
            "3                              NaN               NaN             NaN   \n",
            "4                              NaN               NaN             NaN   \n",
            "5                              NaN               NaN             NaN   \n",
            "\n",
            "title    Alien (1979)  Aliens (1986)  Amadeus (1984)  American Beauty (1999)  \\\n",
            "user_id                                                                        \n",
            "1                 NaN            NaN             NaN                     NaN   \n",
            "2                 NaN            NaN             5.0                     4.0   \n",
            "3                 NaN            NaN             NaN                     4.0   \n",
            "4                 4.0            NaN             NaN                     NaN   \n",
            "5                 NaN            NaN             NaN                     4.0   \n",
            "\n",
            "title    American Pie (1999)  ...  Twelve Monkeys (1995)  \\\n",
            "user_id                       ...                          \n",
            "1                        NaN  ...                    NaN   \n",
            "2                        NaN  ...                    NaN   \n",
            "3                        NaN  ...                    NaN   \n",
            "4                        NaN  ...                    NaN   \n",
            "5                        NaN  ...                    4.0   \n",
            "\n",
            "title    Untouchables, The (1987)  Usual Suspects, The (1995)  \\\n",
            "user_id                                                         \n",
            "1                             NaN                         NaN   \n",
            "2                             4.0                         NaN   \n",
            "3                             NaN                         NaN   \n",
            "4                             NaN                         NaN   \n",
            "5                             NaN                         5.0   \n",
            "\n",
            "title    When Harry Met Sally... (1989)  Who Framed Roger Rabbit? (1988)  \\\n",
            "user_id                                                                    \n",
            "1                                   NaN                              NaN   \n",
            "2                                   NaN                              NaN   \n",
            "3                                   NaN                              NaN   \n",
            "4                                   NaN                              NaN   \n",
            "5                                   NaN                              4.0   \n",
            "\n",
            "title    Willy Wonka and the Chocolate Factory (1971)  Witness (1985)  \\\n",
            "user_id                                                                 \n",
            "1                                                 NaN             NaN   \n",
            "2                                                 NaN             NaN   \n",
            "3                                                 NaN             NaN   \n",
            "4                                                 NaN             NaN   \n",
            "5                                                 NaN             NaN   \n",
            "\n",
            "title    Wizard of Oz, The (1939)  X-Men (2000)  Young Frankenstein (1974)  \n",
            "user_id                                                                     \n",
            "1                             4.0           NaN                        NaN  \n",
            "2                             NaN           NaN                        NaN  \n",
            "3                             NaN           NaN                        NaN  \n",
            "4                             NaN           NaN                        NaN  \n",
            "5                             4.0           NaN                        NaN  \n",
            "\n",
            "[5 rows x 161 columns]\n"
          ]
        }
      ]
    },
    {
      "cell_type": "code",
      "source": [
        "target_movie_title = 'Young Frankenstein (1974)'\n",
        "yf_ratings = user_rating_pivot[target_movie_title]\n",
        "\n",
        "print(yf_ratings.sort_values(ascending=False).head())"
      ],
      "metadata": {
        "colab": {
          "base_uri": "https://localhost:8080/"
        },
        "id": "hlkOAo8rPHPI",
        "outputId": "97b38cc6-71b0-49cb-cad2-6ee0058ce800"
      },
      "execution_count": 10,
      "outputs": [
        {
          "output_type": "stream",
          "name": "stdout",
          "text": [
            "user_id\n",
            "6032    5.0\n",
            "10      5.0\n",
            "6021    5.0\n",
            "19      5.0\n",
            "28      5.0\n",
            "Name: Young Frankenstein (1974), dtype: float64\n"
          ]
        }
      ]
    },
    {
      "cell_type": "code",
      "source": [
        "yf_correlations = user_rating_pivot.corrwith(\n",
        "    yf_ratings)\n",
        "\n",
        "print(\n",
        "    yf_correlations.sort_values(\n",
        "        ascending=False).head())"
      ],
      "metadata": {
        "colab": {
          "base_uri": "https://localhost:8080/"
        },
        "id": "OZwOD2GEQypp",
        "outputId": "7c6b3a54-4a71-40d8-b621-25b83aa86419"
      },
      "execution_count": 11,
      "outputs": [
        {
          "output_type": "stream",
          "name": "stdout",
          "text": [
            "title\n",
            "Young Frankenstein (1974)                       1.000000\n",
            "Blazing Saddles (1974)                          0.412395\n",
            "Alien (1979)                                    0.297567\n",
            "Willy Wonka and the Chocolate Factory (1971)    0.272574\n",
            "M*A*S*H (1970)                                  0.259304\n",
            "dtype: float64\n"
          ]
        }
      ]
    },
    {
      "cell_type": "markdown",
      "source": [],
      "metadata": {
        "id": "O9qBiKKw6ta-"
      }
    },
    {
      "cell_type": "code",
      "source": [
        "import numpy as np\n",
        "from scipy.linalg import svd\n",
        "\n",
        "original_matrix = np.array([\n",
        "    [1, 2, 3],\n",
        "    [4, 5, 6],\n",
        "    [7, 8, 9],\n",
        "])\n",
        "print(\"Original Matrix:\")\n",
        "print(original_matrix)\n",
        "\n",
        "u_matrix, singular_values, vt_matrix = svd(\n",
        "    original_matrix)\n",
        "\n",
        "print(\"\\nU matrix:\")\n",
        "print(u_matrix)\n",
        "print(\"\\nSingular values (s vector):\")\n",
        "print(singular_values)\n",
        "print(\"\\nVT matrix (V transposed):\")\n",
        "print(vt_matrix)\n",
        "\n",
        "sigma_matrix = np.diag(singular_values)\n",
        "print(\"\\nSigma matrix (for reconstruction):\")\n",
        "print(sigma_matrix)\n",
        "\n",
        "reconstructed_matrix = (\n",
        "    u_matrix @ sigma_matrix @ vt_matrix\n",
        ")\n",
        "print(\"\\nReconstructed matrix:\")\n",
        "print(reconstructed_matrix)"
      ],
      "metadata": {
        "colab": {
          "base_uri": "https://localhost:8080/"
        },
        "id": "HdUkeoNi77Kz",
        "outputId": "07357b5c-ecd6-4997-9eff-c97351f809a0"
      },
      "execution_count": 12,
      "outputs": [
        {
          "output_type": "stream",
          "name": "stdout",
          "text": [
            "Original Matrix:\n",
            "[[1 2 3]\n",
            " [4 5 6]\n",
            " [7 8 9]]\n",
            "\n",
            "U matrix:\n",
            "[[-0.21483724  0.88723069  0.40824829]\n",
            " [-0.52058739  0.24964395 -0.81649658]\n",
            " [-0.82633754 -0.38794278  0.40824829]]\n",
            "\n",
            "Singular values (s vector):\n",
            "[1.68481034e+01 1.06836951e+00 4.41842475e-16]\n",
            "\n",
            "VT matrix (V transposed):\n",
            "[[-0.47967118 -0.57236779 -0.66506441]\n",
            " [-0.77669099 -0.07568647  0.62531805]\n",
            " [-0.40824829  0.81649658 -0.40824829]]\n",
            "\n",
            "Sigma matrix (for reconstruction):\n",
            "[[1.68481034e+01 0.00000000e+00 0.00000000e+00]\n",
            " [0.00000000e+00 1.06836951e+00 0.00000000e+00]\n",
            " [0.00000000e+00 0.00000000e+00 4.41842475e-16]]\n",
            "\n",
            "Reconstructed matrix:\n",
            "[[1. 2. 3.]\n",
            " [4. 5. 6.]\n",
            " [7. 8. 9.]]\n"
          ]
        }
      ]
    },
    {
      "cell_type": "code",
      "source": [
        "sigma_matrix = np.zeros(\n",
        "    (original_matrix.shape[0],\n",
        "     original_matrix.shape[1]))\n",
        "\n",
        "num_columns = original_matrix.shape[1]\n",
        "singular_values_diag = np.diag(singular_values)\n",
        "\n",
        "sigma_matrix[:num_columns, :num_columns] = (\n",
        "    singular_values_diag)\n",
        "\n",
        "print(sigma_matrix)"
      ],
      "metadata": {
        "colab": {
          "base_uri": "https://localhost:8080/"
        },
        "id": "ErVJdjXLRErA",
        "outputId": "e0ed8828-4f62-4835-c6da-a6fe557a3e05"
      },
      "execution_count": 13,
      "outputs": [
        {
          "output_type": "stream",
          "name": "stdout",
          "text": [
            "[[1.68481034e+01 0.00000000e+00 0.00000000e+00]\n",
            " [0.00000000e+00 1.06836951e+00 0.00000000e+00]\n",
            " [0.00000000e+00 0.00000000e+00 4.41842475e-16]]\n"
          ]
        }
      ]
    },
    {
      "cell_type": "code",
      "source": [
        "ratings_pivot_df = movie_lens.pivot_table(\n",
        "    values='rating',\n",
        "    index='user_id',\n",
        "    columns='title',\n",
        "    fill_value=0)\n",
        "\n",
        "movie_titles_index = ratings_pivot_df.columns"
      ],
      "metadata": {
        "id": "dUqv8AEOrSa-"
      },
      "execution_count": 14,
      "outputs": []
    },
    {
      "cell_type": "code",
      "source": [
        "from sklearn.decomposition import TruncatedSVD\n",
        "\n",
        "svd_model = TruncatedSVD(\n",
        "    n_components=15,\n",
        "    random_state=101)\n",
        "\n",
        "ratings_values_transposed = (\n",
        "    ratings_pivot_df.values.T)\n",
        "item_latent_features = svd_model.fit_transform(\n",
        "    ratings_values_transposed)"
      ],
      "metadata": {
        "id": "zLS77ElOrayq"
      },
      "execution_count": 15,
      "outputs": []
    },
    {
      "cell_type": "code",
      "source": [
        "target_movie_title = (\n",
        "    'Star Wars: Episode V - '\n",
        "    'The Empire Strikes Back (1980)'\n",
        ")\n",
        "\n",
        "movie_idx = list(movie_titles_index).index(\n",
        "    target_movie_title)\n",
        "\n",
        "print(f\"Movie index: {movie_idx}\")\n",
        "\n",
        "latent_features_for_movie = item_latent_features[\n",
        "    movie_idx]\n",
        "print(latent_features_for_movie)"
      ],
      "metadata": {
        "colab": {
          "base_uri": "https://localhost:8080/"
        },
        "id": "Bf8KPvfB88e3",
        "outputId": "25435dee-50e3-472f-dc3e-f6775e515852"
      },
      "execution_count": 16,
      "outputs": [
        {
          "output_type": "stream",
          "name": "stdout",
          "text": [
            "Movie index: 3154\n",
            "[184.72254552 -17.77612872  47.33450866 -51.4664494  -47.92058216\n",
            " -17.65033116 -14.3574635  -12.82219207 -17.51347857  -5.46888807\n",
            "   7.5430805   -0.57117869 -30.74032355   2.4088565  -22.50368497]\n"
          ]
        }
      ]
    },
    {
      "cell_type": "code",
      "source": [
        "import numpy as np\n",
        "\n",
        "item_similarity_matrix = np.corrcoef(\n",
        "    item_latent_features)\n",
        "\n",
        "target_movie_correlations = item_similarity_matrix[\n",
        "    movie_idx]\n",
        "\n",
        "is_highly_correlated = (\n",
        "    (target_movie_correlations > 0.985) &\n",
        "    (target_movie_correlations < 1.0))\n",
        "\n",
        "similar_movie_titles = list(\n",
        "    movie_titles_index[is_highly_correlated])\n",
        "print(similar_movie_titles)"
      ],
      "metadata": {
        "colab": {
          "base_uri": "https://localhost:8080/"
        },
        "id": "p9xmITbYrasi",
        "outputId": "e287fdbb-f5f7-4e29-dfbc-6c34dd207724"
      },
      "execution_count": 17,
      "outputs": [
        {
          "output_type": "stream",
          "name": "stdout",
          "text": [
            "['Star Wars: Episode IV - A New Hope (1977)', 'Star Wars: Episode VI - Return of the Jedi (1983)']\n"
          ]
        }
      ]
    }
  ]
}